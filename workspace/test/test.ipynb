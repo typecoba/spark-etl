{
 "cells": [
  {
   "cell_type": "code",
   "execution_count": null,
   "metadata": {},
   "outputs": [],
   "source": [
    "from datetime import datetime, timedelta\n",
    "mindate = datetime.strptime('2021-01-01','%Y-%m-%d')\n",
    "maxdate = datetime.strptime('2021-12-31','%Y-%m-%d')\n",
    "daterange = [ (mindate + timedelta(hours=x)).strftime('%Y%m%d %H') for x in range(0,(maxdate-mindate).days)]\n",
    "\n",
    "print(daterange[:10])\n",
    "\n"
   ]
  },
  {
   "cell_type": "code",
   "execution_count": null,
   "metadata": {},
   "outputs": [],
   "source": []
  },
  {
   "cell_type": "code",
   "execution_count": null,
   "metadata": {},
   "outputs": [],
   "source": [
    "import pandas as pd\n",
    "dt_index = pd.date_range(start='20210101', end='20211231')\n",
    "dt_list = dt_index.strftime('%Y-%m-%d').tolist()\n",
    "print(dt_list[:10])"
   ]
  },
  {
   "cell_type": "code",
   "execution_count": null,
   "metadata": {},
   "outputs": [],
   "source": [
    "# tier1 데이터 sql\n",
    "from pyspark.sql import SparkSession\n",
    "spark = SparkSession.builder \\\n",
    "            .appName('test-session') \\\n",
    "            .master('local[*]') \\\n",
    "            .getOrCreate()\n",
    "print(spark)\n",
    "data_path = '/home/data/data-warehouse/tier1/event/2020-12-01/00'\n",
    "attr = [\n",
    "    '*',\n",
    "]\n",
    "df = spark.read.format('parquet') \\\n",
    "    .option('header',True) \\\n",
    "    .option('compression', 'gzip') \\\n",
    "    .load(data_path) \\\n",
    "    .selectExpr(attr)\n",
    "df.show(3)"
   ]
  },
  {
   "cell_type": "code",
   "execution_count": null,
   "metadata": {},
   "outputs": [],
   "source": [
    "# raw 데이터 sql\n",
    "from pyspark.sql import SparkSession\n",
    "from pyspark.sql.types import *\n",
    "\n",
    "spark = SparkSession.builder \\\n",
    "            .appName('test-session') \\\n",
    "            .master('local[*]') \\\n",
    "            .getOrCreate()\n",
    "print(spark)\n",
    "data_path = '/home/data/dmc-integrated-analytics/rawdata/thirdparty-branch/2020-12/01/00/*'\n",
    "# data_path = '/home/data/dmc-integrated-analytics/rawdata/thirdparty-adbrix/2020-12/01/00/*'\n",
    "# data_path = '/home/data/dmc-integrated-analytics/rawdata/thirdparty-singular/2021-01/01/00/*'\n",
    "pre_branch_attr = [\n",
    "    '\"BRANCH\"                                        AS tracking',\n",
    "    'trackingObject.organization_name[0]             AS trackingId',\n",
    "    'CASE WHEN trackingObject.name[0] = \"SEARCH\"   THEN \"TPD007\" \\\n",
    "            WHEN trackingObject.name[0] = \"VIEW_ITEM\"  THEN \"TPD002\" \\\n",
    "            WHEN trackingObject.name[0] = \"ADD_TO_CART\" THEN \"TPD003\" \\\n",
    "            WHEN trackingObject.name[0] = \"PURCHASE\" THEN \"TPD004\"\\\n",
    "            WHEN trackingObject.name[0] = \"INSTALL\"    THEN \"TPD008\"\\\n",
    "            WHEN trackingObject.name[0] = \"OPEN\" THEN \"TPD009\"  ELSE \"TPD999\" END     AS trackingEventCode',\n",
    "    'CASE WHEN trackingObject.ud_os[0] = \"ANDROID\" THEN trackingObject.ud_aaid[0] \\\n",
    "            WHEN trackingObject.ud_os[0] = \"IOS\" THEN trackingObject.ud_idfa[0] END                     AS cid',\n",
    "    'CASE WHEN trackingObject.ud_os[0] = \"ANDROID\" THEN \"ATC001\" \\\n",
    "            WHEN trackingObject.ud_os[0] = \"IOS\" THEN \"ATC002\" ELSE \"ATC999\" END      AS osTypeCode',\n",
    "    'logTimeStamp                  ',\n",
    "    'trackingObject.event_timestamp[0]               AS eventTimeStamp',\n",
    "    'trackingObject.latd_campaign[0]                 AS campaign',\n",
    "    'trackingObject.ci0_product_name[0]              AS contentId',\n",
    "    '\"\"                                              AS contentName',\n",
    "    'trackingObject.ci0_price[0]                     AS value',\n",
    "    'trackingObject.ci0_quantity[0]                  AS quantity',\n",
    "    'trackingObject.ci0_price[0] * trackingObject.ci0_quantity[0]     AS amount',\n",
    "    'trackingObject.ci0_currency[0]                  AS currency',\n",
    "    '\"\"                                              AS activityParam',\n",
    "    'trackingObject.attributed[0]                    AS attributed',\n",
    "    'trackingObject.latd_advertising_partner_name[0] AS latdAdvertisingPartnerName',\n",
    "]\n",
    "pre_adbrix_attr = [  \n",
    "    '\"ADBRIX\"                                      AS tracking',\n",
    "    'trackingObject.package_name[0]                AS trackingId',      \n",
    "    'CASE WHEN trackingObject.activity[0] = \"search\"  THEN \"TPD001\" \\\n",
    "            WHEN trackingObject.activity[0] = \"product_view\"  THEN \"TPD002\" \\\n",
    "            WHEN trackingObject.activity[0] = \"add_to_cart\" THEN \"TPD003\" \\\n",
    "            WHEN trackingObject.activity[0] = \"purchase\" THEN \"TPD004\" \\\n",
    "            WHEN trackingObject.activity[0] = \"sign_up\" THEN \"TPD012\" \\\n",
    "            WHEN trackingObject.activity[0] = \"refund\" THEN \"TPD015\" \\\n",
    "            WHEN trackingObject.activity[0] = \"add_to_wishlist\" THEN \"TPD014\" \\\n",
    "            WHEN trackingObject.activity[0] = \"login\" THEN \"TPD013\" ELSE \"TPD999\" END  AS trackingEventCode',\n",
    "    'CASE WHEN trackingObject.platform[0] = \"android\" THEN trackingObject.gaid[0] ELSE trackingObject.ifa[0] END AS cid',\n",
    "    'CASE WHEN trackingObject.platform[0] = \"android\" THEN \"ATC001\" \\\n",
    "            WHEN trackingObject.platform[0] = \"ios\" THEN \"ATC002\" ELSE \"ATC999\" END AS osTypeCode', \n",
    "    'CAST(logTimeStamp AS timestamp) AS logTimeStamp',\n",
    "    'CAST(trackingObject.event_time[0] * 1000 AS timestamp)    AS eventTimeStamp',\n",
    "    '\"\"                                            as campaign',\n",
    "    'trackingObject.product_id[0]                  AS contentId',\n",
    "    'trackingObject.product_name[0]                AS contentName',\n",
    "    'cast(trackingObject.price[0] as integer)                       AS value',\n",
    "    'cast(trackingObject.quantity[0] as integer)                    AS quantity',\n",
    "    'cast(trackingObject.sales[0] as integer)                       AS amount',\n",
    "    'trackingObject.currency[0]                    AS currency',\n",
    "    'trackingObject.activity_param[0]              AS activityParam',\n",
    "    '\"\"                                            AS attributed',\n",
    "    '\"\"                                            AS latdAdvertisingPartnerName',      \n",
    "]\n",
    "pre_singular_attr = [\n",
    "    '\"SINGULAR\"                                               AS tracking',\n",
    "    'trackingObject.app_name[0]                               AS trackingid',\n",
    "    'CASE WHEN trackingObject.evtname[0] = \"ViewItem\"  THEN \"TPD002\"\\\n",
    "            WHEN trackingObject.evtname[0] = \"AddToCart\" THEN \"TPD003\"\\\n",
    "            WHEN trackingObject.evtname[0] = \"Purchase\"  THEN \"TPD004\"\\\n",
    "            WHEN trackingObject.evtname[0] = \"FirstPurchase\"  THEN \"TPD010\"\\\n",
    "            WHEN trackingObject.evtname[0] = \"__START__\" THEN \"TPD008\"\\\n",
    "            WHEN trackingObject.evtname[0] = \"__SESSION__\"  THEN \"TPD009\"\\\n",
    "            WHEN trackingObject.evtname[0] = \"__iap__\"   THEN \"TPD011\"   ELSE \"TPD999\" END AS trackingEventCode',\n",
    "    'CASE WHEN trackingObject.platform[0] = \"Android\" THEN trackingObject.aifa[0] ELSE trackingObject.idfa[0] END AS cid',\n",
    "    'CASE WHEN trackingObject.platform[0] = \"Android\" THEN \"ATC001\"\\\n",
    "            WHEN trackingObject.platform[0] = \"iOS\" THEN \"ATC002\"  ELSE \"ATC999\" END  AS osTypeCode',\n",
    "    'logTimeStamp',\n",
    "    'CAST(trackingObject.utc[0] * 1000 AS String)             AS eventTimeStamp',\n",
    "    'trackingObject.cid[0]                                    AS campaign',\n",
    "    'CASE WHEN trackingObject.evtname[0] = \"__iap__\" THEN GET_JSON_OBJECT(trackingObject.evtattr[0], \"$[0].id\") ELSE GET_JSON_OBJECT(trackingObject.evtattr[0], \"$[0].prd_code\") END AS contentId',\n",
    "    'GET_JSON_OBJECT(trackingObject.evtattr[0], \"$[0].product\")  AS contentName',\n",
    "    'CASE WHEN trackingObject.evtname[0] = \"__iap__\" THEN GET_JSON_OBJECT(trackingObject.evtattr[0], \"$[0].price\") ELSE \"0\" END  AS value',\n",
    "    'CASE WHEN trackingObject.evtname[0] = \"__iap__\" THEN GET_JSON_OBJECT(trackingObject.evtattr[0], \"$[0].quantity\") ELSE \"0\" END AS quantity',\n",
    "    'trackingObject.amount[0]                                 as amount',\n",
    "    'trackingObject.currency[0]                               as currency',\n",
    "    'trackingObject.evtattr[0]                                AS activityParam',\n",
    "    'trackingObject.is_re_eng[0]                              AS attributed',\n",
    "    '\"\"                                                       AS latdAdvertisingPartnerName',\n",
    "]\n",
    "\n",
    "# 스키마 지정해서 불러들여야하는데... 에러남\n",
    "union_schema = StructType([\n",
    "    StructField('tracking', StringType(), True),\n",
    "    StructField('trackingId', StringType(), True),\n",
    "    StructField('trackingEventCode', StringType(), True),\n",
    "    StructField('cid', StringType(), True),\n",
    "    StructField('osTypeCode', StringType(), True),\n",
    "    StructField('logTimeStamp', TimestampType(), True),\n",
    "    StructField('eventTimeStamp', TimestampType(), True),\n",
    "    StructField('campaign', StringType(), True),\n",
    "    StructField('contentId', StringType(), True),\n",
    "    StructField('contentName', StringType(), True),\n",
    "    StructField('value', IntegerType(), True),\n",
    "    StructField('quantity', IntegerType(), True),\n",
    "    StructField('amount', IntegerType(), True),\n",
    "    StructField('currency', StringType(), True),\n",
    "    StructField('activityParam', StringType(), True),\n",
    "    StructField('attributed', StringType(), True),\n",
    "    StructField('latdAdvertisingPartnerName', StringType(), True),\n",
    "])\n",
    "\n",
    "\n",
    "df = spark.read\\\n",
    "    .format('json')\\\n",
    "    .option('header',True)\\\n",
    "    .load(data_path)\\\n",
    "    .selectExpr(pre_adbrix_attr)\\"
   ]
  },
  {
   "cell_type": "code",
   "execution_count": null,
   "metadata": {},
   "outputs": [],
   "source": [
    "df.printSchema()"
   ]
  },
  {
   "cell_type": "code",
   "execution_count": null,
   "metadata": {},
   "outputs": [],
   "source": [
    "df.show(3,False)"
   ]
  },
  {
   "cell_type": "code",
   "execution_count": null,
   "metadata": {},
   "outputs": [],
   "source": [
    "# write\n",
    "write_path = '/home/data/temp/adbrix'\n",
    "df.where('trackingId is not NULL')\\\n",
    "    .sort('eventTimeStamp')\\\n",
    "    .coalesce(20)\\\n",
    "    .write\\\n",
    "    .option('compression','gzip')\\\n",
    "    .option('parquet.enable.dictionary', 'true')\\\n",
    "    .option('parquet.block.size', f'{128*1024*1024}')\\\n",
    "    .option('parquet.page.size', f'{2*1024*1024}')\\\n",
    "    .option('parquet.dictionary.page.size', f'{8*1024*1024}')\\\n",
    "    .mode('overwrite')\\\n",
    "    .parquet(write_path)"
   ]
  },
  {
   "cell_type": "code",
   "execution_count": null,
   "metadata": {},
   "outputs": [],
   "source": [
    "# read and print schema\n",
    "df2 = spark.read\\\n",
    "    .format('parquet')\\\n",
    "    .option('header',True)\\\n",
    "    .load(write_path)    \n",
    "\n",
    "df2.printSchema()"
   ]
  },
  {
   "cell_type": "code",
   "execution_count": null,
   "metadata": {},
   "outputs": [],
   "source": [
    "# 파일폴더 변경..\n",
    "import os\n",
    "import shutil\n",
    "from distutils.dir_util import copy_tree"
   ]
  },
  {
   "cell_type": "code",
   "execution_count": null,
   "metadata": {},
   "outputs": [],
   "source": [
    "os.path.isdir('/home/data/data-warehouse/tier1/event/2021-01-01')"
   ]
  },
  {
   "cell_type": "code",
   "execution_count": null,
   "metadata": {},
   "outputs": [],
   "source": [
    "import os, shutil\n",
    "def copytree(src, dst, symlinks=False, ignore=None):\n",
    "    for item in os.listdir(src):\n",
    "        s = os.path.join(src, item)\n",
    "        d = os.path.join(dst, item)        \n",
    "        if os.path.isdir(d):            \n",
    "            for file in os.listdir(s):\n",
    "                # print(os.path.join(s, file),os.path.join(d, file))\n",
    "                shutil.copy2(os.path.join(s, file),os.path.join(d, file))\n",
    "        else:\n",
    "            shutil.copytree(s, d, symlinks, ignore)"
   ]
  },
  {
   "cell_type": "code",
   "execution_count": null,
   "metadata": {},
   "outputs": [],
   "source": [
    "rootdir = '/home/data/data-warehouse/tier1/event'\n",
    "dst = '/home/data/data-warehouse/tier1_temp/event/'\n",
    "for i,dirdate in enumerate(os.listdir(rootdir)) :\n",
    "    # if i > 2 : break\n",
    "    src = f'{rootdir}/{dirdate}/'\n",
    "    print(src)\n",
    "    copytree(src, dst)\n",
    "\n"
   ]
  },
  {
   "cell_type": "code",
   "execution_count": null,
   "metadata": {},
   "outputs": [],
   "source": [
    "sql =''' select cast(avg(100000000000000) as bigint) as num '''\n",
    "spark.sql(sql).show(5,False)"
   ]
  },
  {
   "cell_type": "code",
   "execution_count": null,
   "metadata": {},
   "outputs": [],
   "source": [
    "data_path = '/home/data/dmc-integrated-analytics/record/advertiser/app/*'\n",
    "spark.read.format('parquet').option('header',True).option('compression','gzip').load(data_path).show()"
   ]
  },
  {
   "cell_type": "code",
   "execution_count": 15,
   "metadata": {},
   "outputs": [
    {
     "name": "stdout",
     "output_type": "stream",
     "text": [
      "<pyspark.sql.session.SparkSession object at 0x7f08441fd220>\n"
     ]
    }
   ],
   "source": [
    "from pyspark.sql import SparkSession\n",
    "spark = SparkSession.builder \\\n",
    "            .appName('test-session') \\\n",
    "            .master('local[*]') \\\n",
    "            .getOrCreate()\n",
    "print(spark)"
   ]
  },
  {
   "cell_type": "code",
   "execution_count": 4,
   "metadata": {},
   "outputs": [
    {
     "name": "stdout",
     "output_type": "stream",
     "text": [
      "+--------------------------------+\n",
      "|datediff(2021-10-01, 2021-05-01)|\n",
      "+--------------------------------+\n",
      "|                             153|\n",
      "+--------------------------------+\n",
      "\n"
     ]
    }
   ],
   "source": [
    "spark.sql('''\n",
    "    select datediff(date('2021-10-01'),date('2021-05-01'))\n",
    "''').show()"
   ]
  },
  {
   "cell_type": "code",
   "execution_count": 7,
   "metadata": {},
   "outputs": [
    {
     "name": "stdout",
     "output_type": "stream",
     "text": [
      "+------------------+\n",
      "|round(0.021021, 2)|\n",
      "+------------------+\n",
      "|              0.02|\n",
      "+------------------+\n",
      "\n"
     ]
    }
   ],
   "source": [
    "spark.sql('''\n",
    "    select round(0.021021,2)\n",
    "''').show()"
   ]
  },
  {
   "cell_type": "code",
   "execution_count": 14,
   "metadata": {},
   "outputs": [
    {
     "name": "stdout",
     "output_type": "stream",
     "text": [
      "+-----------------------------------------------------------------------------------------------------------------------------+\n",
      "|(unix_timestamp(2019-06-24 12:01:19.000, yyyy-MM-dd HH:mm:ss) - unix_timestamp(2019-06-24 12:00:19.000, yyyy-MM-dd HH:mm:ss))|\n",
      "+-----------------------------------------------------------------------------------------------------------------------------+\n",
      "|                                                                                                                           60|\n",
      "+-----------------------------------------------------------------------------------------------------------------------------+\n",
      "\n"
     ]
    }
   ],
   "source": [
    "spark.sql('''\n",
    "    select unix_timestamp(timestamp('2019-06-24 12:01:19.000')) - unix_timestamp(timestamp('2019-06-24 12:00:19.000'))\n",
    "''').show()"
   ]
  },
  {
   "cell_type": "code",
   "execution_count": 16,
   "metadata": {},
   "outputs": [
    {
     "name": "stdout",
     "output_type": "stream",
     "text": [
      "+-----------+----------------+----------------+---------------------+---------------+\n",
      "|common_code|common_code_name|common_code_item|common_code_item_name|    description|\n",
      "+-----------+----------------+----------------+---------------------+---------------+\n",
      "|     TTC001|  USER_TYPE_CODE|          UTC001|               SYSTEM| 시스템 사용자 |\n",
      "|     TTC001|  USER_TYPE_CODE|          UTC002|           ADVERTISER|         광고주|\n",
      "|     TTC001|  USER_TYPE_CODE|          UTC003|            PUBLISHER|       퍼블리셔|\n",
      "|     TTC002| EVENT_TYPE_CODE|          TPD001|             pageview|     페이지 뷰 |\n",
      "|     TTC002| EVENT_TYPE_CODE|          TPD002|          viewcontent|      상품 보기|\n",
      "|     TTC002| EVENT_TYPE_CODE|          TPD003|            addtocart|    카트에 담기|\n",
      "|     TTC002| EVENT_TYPE_CODE|          TPD004|            purchased|       구매완료|\n",
      "|     TTC002| EVENT_TYPE_CODE|          TPD005|         registration|       회원가입|\n",
      "|     TTC002| EVENT_TYPE_CODE|          TPD006|              catalog|  상품 카탈로그|\n",
      "|     TTC002| EVENT_TYPE_CODE|          TPD007|               search|           검색|\n",
      "|     TTC002| EVENT_TYPE_CODE|          TPD008|              install|           설치|\n",
      "|     TTC002| EVENT_TYPE_CODE|          TPD009|                 open|           실행|\n",
      "|     TTC002| EVENT_TYPE_CODE|          TPD010|      first purchased|         첫구매|\n",
      "|     TTC002| EVENT_TYPE_CODE|          TPD011|              revenue|           수익|\n",
      "|     TTC002| EVENT_TYPE_CODE|          TPD012|               signup|           가입|\n",
      "|     TTC002| EVENT_TYPE_CODE|          TPD013|                login|         로그인|\n",
      "|     TTC002| EVENT_TYPE_CODE|          TPD014|        addtowishlist|위시리스트 담기|\n",
      "|     TTC002| EVENT_TYPE_CODE|          TPD015|               refund|           환불|\n",
      "|     TTC002| EVENT_TYPE_CODE|          TPD016|             viewcart|   장바구니보기|\n",
      "|     TTC002| EVENT_TYPE_CODE|          TPD998|                error|           오류|\n",
      "+-----------+----------------+----------------+---------------------+---------------+\n",
      "only showing top 20 rows\n",
      "\n"
     ]
    }
   ],
   "source": [
    "data_path = '/home/data/temp/15e3267b-7bc5-43d5-b723-6bc968a7e9db.parquet'\n",
    "spark.read.format('parquet').option('header',True).load(data_path).show()"
   ]
  },
  {
   "cell_type": "code",
   "execution_count": 21,
   "metadata": {},
   "outputs": [
    {
     "name": "stdout",
     "output_type": "stream",
     "text": [
      "+-------------+-------------+\n",
      "|   index_name|interval_date|\n",
      "+-------------+-------------+\n",
      "|01 day repeat|            1|\n",
      "|02 day repeat|            2|\n",
      "|03 day repeat|            3|\n",
      "|04 day repeat|            4|\n",
      "|05 day repeat|            5|\n",
      "|06 day repeat|            6|\n",
      "|07 day repeat|            7|\n",
      "+-------------+-------------+\n",
      "\n"
     ]
    }
   ],
   "source": [
    "spark.sql('''\n",
    "    with repeat_interval(index_name, interval_date) as (\n",
    "        values('01 day repeat', 1)\n",
    "        ,('02 day repeat', 2)\n",
    "        ,('03 day repeat', 3)\n",
    "        ,('04 day repeat', 4)\n",
    "        ,('05 day repeat', 5)\n",
    "        ,('06 day repeat', 6)\n",
    "        ,('07 day repeat', 7)        \n",
    "    )\n",
    "    select * from repeat_interval\n",
    "''').show()"
   ]
  },
  {
   "cell_type": "code",
   "execution_count": null,
   "metadata": {},
   "outputs": [],
   "source": []
  }
 ],
 "metadata": {
  "kernelspec": {
   "display_name": "Python 3 (ipykernel)",
   "language": "python",
   "name": "python3"
  },
  "language_info": {
   "codemirror_mode": {
    "name": "ipython",
    "version": 3
   },
   "file_extension": ".py",
   "mimetype": "text/x-python",
   "name": "python",
   "nbconvert_exporter": "python",
   "pygments_lexer": "ipython3",
   "version": "3.9.10"
  },
  "orig_nbformat": 4
 },
 "nbformat": 4,
 "nbformat_minor": 2
}
